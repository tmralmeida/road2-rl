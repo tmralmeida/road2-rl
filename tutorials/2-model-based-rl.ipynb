{
 "cells": [
  {
   "cell_type": "markdown",
   "metadata": {},
   "source": [
    "# 1. Implement Policy Evaluation in Python (Gridworld)"
   ]
  },
  {
   "cell_type": "code",
   "execution_count": 1,
   "metadata": {},
   "outputs": [],
   "source": [
    "import numpy as np\n",
    "from lib.envs.gridworld import GridworldEnv\n",
    "import matplotlib.pyplot as plt "
   ]
  },
  {
   "cell_type": "code",
   "execution_count": 2,
   "metadata": {},
   "outputs": [],
   "source": [
    "env = GridworldEnv()"
   ]
  },
  {
   "cell_type": "code",
   "execution_count": 3,
   "metadata": {},
   "outputs": [],
   "source": [
    "\n",
    "def policy_eval(policy, env, discount_factor=1.0, theta=0.00001):\n",
    "    \"\"\"\n",
    "    Evaluate a policy given an environment and a full description of the environment's dynamics.\n",
    "    \n",
    "    Args:\n",
    "        policy: [S, A] shaped matrix representing the policy.\n",
    "        env: OpenAI env. env.P represents the transition probabilities of the environment.\n",
    "            env.P[s][a] is a list of transition tuples (prob, next_state, reward, done).\n",
    "            env.nS is a number of states in the environment. \n",
    "            env.nA is a number of actions in the environment.\n",
    "        theta: We stop evaluation once our value function change is less than theta for all states.\n",
    "        discount_factor: Gamma discount factor.\n",
    "    \n",
    "    Returns:\n",
    "        Vector of length env.nS representing the value function.\n",
    "    \"\"\"\n",
    "    # Start with a random (all 0) value function\n",
    "    V = np.zeros(env.nS)\n",
    "    while True:\n",
    "        delta = 0\n",
    "        for ns in range(env.nS):\n",
    "            v = 0\n",
    "            for a, p_act in enumerate(policy[ns]):\n",
    "                for p_dyn, next_state, r, done in env.P[ns][a]:\n",
    "                    v += p_act * p_dyn * (r + discount_factor * V[next_state]) # following page 75\n",
    "\n",
    "            delta = max(delta, abs(v - V[ns]))\n",
    "            V[ns] = v\n",
    "        if delta < theta: \n",
    "            break\n",
    "    return np.array(V)"
   ]
  },
  {
   "cell_type": "code",
   "execution_count": 4,
   "metadata": {},
   "outputs": [],
   "source": [
    "random_policy = np.ones([env.nS, env.nA]) / env.nA\n",
    "v = policy_eval(random_policy, env)"
   ]
  },
  {
   "cell_type": "code",
   "execution_count": 5,
   "metadata": {},
   "outputs": [
    {
     "data": {
      "text/plain": [
       "array([[  0.        , -13.99993529, -19.99990698, -21.99989761],\n",
       "       [-13.99993529, -17.9999206 , -19.99991379, -19.99991477],\n",
       "       [-19.99990698, -19.99991379, -17.99992725, -13.99994569],\n",
       "       [-21.99989761, -19.99991477, -13.99994569,   0.        ]])"
      ]
     },
     "execution_count": 5,
     "metadata": {},
     "output_type": "execute_result"
    }
   ],
   "source": [
    "v.reshape(env.shape)"
   ]
  },
  {
   "cell_type": "code",
   "execution_count": 6,
   "metadata": {},
   "outputs": [],
   "source": [
    "expected_v = np.array([0, -14, -20, -22, -14, -18, -20, -20, -20, -20, -18, -14, -22, -20, -14, 0])\n",
    "np.testing.assert_array_almost_equal(v, expected_v, decimal=2)"
   ]
  },
  {
   "cell_type": "markdown",
   "metadata": {},
   "source": [
    "# 2. Implement Policy Iteration in Python (Gridworld)"
   ]
  },
  {
   "cell_type": "code",
   "execution_count": 7,
   "metadata": {},
   "outputs": [],
   "source": [
    "def policy_improvement(env, policy_eval_fn=policy_eval, discount_factor=1.0):\n",
    "    \"\"\"\n",
    "    Policy Improvement Algorithm. Iteratively evaluates and improves a policy\n",
    "    until an optimal policy is found.\n",
    "    \n",
    "    Args:\n",
    "        env: The OpenAI envrionment.\n",
    "        policy_eval_fn: Policy Evaluation function that takes 3 arguments:\n",
    "            policy, env, discount_factor.\n",
    "        discount_factor: gamma discount factor.\n",
    "        \n",
    "    Returns:\n",
    "        A tuple (policy, V). \n",
    "        policy is the optimal policy, a matrix of shape [S, A] where each state s\n",
    "        contains a valid probability distribution over actions.\n",
    "        V is the value function for the optimal policy.\n",
    "        \n",
    "    \"\"\"\n",
    "    # Start with a random policy\n",
    "    policy = np.ones([env.nS, env.nA]) / env.nA\n",
    "    while True:\n",
    "        # Policy evaluation\n",
    "        V = policy_eval(policy, env, discount_factor)\n",
    "        policy_stable = True\n",
    "\n",
    "        for ns in range(env.nS):\n",
    "            old_action = np.argmax(policy[ns])\n",
    "            va = np.zeros(env.nA)\n",
    "            for a in range(env.nA):\n",
    "                for p_dyn, next_state, r, done in env.P[ns][a]:\n",
    "                    va[a] =  p_dyn * (r + discount_factor * V[next_state]) # value of each action+\n",
    "            new_action = np.argmax(va)\n",
    "            policy[ns] = np.eye(env.nA)[new_action]\n",
    "            if old_action !=  new_action:\n",
    "                policy_stable = False\n",
    "        if policy_stable:\n",
    "            break\n",
    "    \n",
    "    return policy, V"
   ]
  },
  {
   "cell_type": "code",
   "execution_count": 8,
   "metadata": {},
   "outputs": [
    {
     "name": "stdout",
     "output_type": "stream",
     "text": [
      "Policy Probability Distribution:\n",
      "[[1. 0. 0. 0.]\n",
      " [0. 0. 0. 1.]\n",
      " [0. 0. 0. 1.]\n",
      " [0. 0. 1. 0.]\n",
      " [1. 0. 0. 0.]\n",
      " [1. 0. 0. 0.]\n",
      " [1. 0. 0. 0.]\n",
      " [0. 0. 1. 0.]\n",
      " [1. 0. 0. 0.]\n",
      " [1. 0. 0. 0.]\n",
      " [0. 1. 0. 0.]\n",
      " [0. 0. 1. 0.]\n",
      " [1. 0. 0. 0.]\n",
      " [0. 1. 0. 0.]\n",
      " [0. 1. 0. 0.]\n",
      " [1. 0. 0. 0.]]\n",
      "\n",
      "Reshaped Grid Policy (0=up, 1=right, 2=down, 3=left):\n",
      "[[0 3 3 2]\n",
      " [0 0 0 2]\n",
      " [0 0 1 2]\n",
      " [0 1 1 0]]\n",
      "\n",
      "Value Function:\n",
      "[ 0. -1. -2. -3. -1. -2. -3. -2. -2. -3. -2. -1. -3. -2. -1.  0.]\n",
      "\n",
      "Reshaped Grid Value Function:\n",
      "[[ 0. -1. -2. -3.]\n",
      " [-1. -2. -3. -2.]\n",
      " [-2. -3. -2. -1.]\n",
      " [-3. -2. -1.  0.]]\n",
      "\n"
     ]
    }
   ],
   "source": [
    "policy, v = policy_improvement(env)\n",
    "print(\"Policy Probability Distribution:\")\n",
    "print(policy)\n",
    "print(\"\")\n",
    "\n",
    "print(\"Reshaped Grid Policy (0=up, 1=right, 2=down, 3=left):\")\n",
    "print(np.reshape(np.argmax(policy, axis=1), env.shape))\n",
    "print(\"\")\n",
    "\n",
    "print(\"Value Function:\")\n",
    "print(v)\n",
    "print(\"\")\n",
    "\n",
    "print(\"Reshaped Grid Value Function:\")\n",
    "print(v.reshape(env.shape))\n",
    "print(\"\")"
   ]
  },
  {
   "cell_type": "code",
   "execution_count": 9,
   "metadata": {},
   "outputs": [],
   "source": [
    "# Test the value function\n",
    "expected_v = np.array([ 0, -1, -2, -3, -1, -2, -3, -2, -2, -3, -2, -1, -3, -2, -1,  0])\n",
    "np.testing.assert_array_almost_equal(v, expected_v, decimal=2)"
   ]
  },
  {
   "cell_type": "markdown",
   "metadata": {},
   "source": [
    "# 3. Implement Value Iteration in Python (Gridworld)"
   ]
  },
  {
   "cell_type": "code",
   "execution_count": 10,
   "metadata": {},
   "outputs": [],
   "source": [
    "def value_iteration(env, theta=0.0001, discount_factor=1.0):\n",
    "    \"\"\"\n",
    "    Value Iteration Algorithm.\n",
    "    \n",
    "    Args:\n",
    "        env: OpenAI env. env.P represents the transition probabilities of the environment.\n",
    "            env.P[s][a] is a list of transition tuples (prob, next_state, reward, done).\n",
    "            env.nS is a number of states in the environment. \n",
    "            env.nA is a number of actions in the environment.\n",
    "        theta: We stop evaluation once our value function change is less than theta for all states.\n",
    "        discount_factor: Gamma discount factor.\n",
    "        \n",
    "    Returns:\n",
    "        A tuple (policy, V) of the optimal policy and the optimal value function.        \n",
    "    \"\"\"\n",
    "    \n",
    "\n",
    "    V = np.zeros(env.nS)\n",
    "    policy = np.zeros([env.nS, env.nA])\n",
    "    \n",
    "    while True:\n",
    "        delta = 0\n",
    "        for ns in range(env.nS):\n",
    "            va = np.zeros(env.nA)\n",
    "            for a in range(env.nA):\n",
    "                for p_dyn, next_state, r, done in env.P[ns][a]:\n",
    "                    va[a] = p_dyn * (r + discount_factor * V[next_state]) \n",
    "            v = max(va)\n",
    "            delta = max(delta, abs(v - V[ns]))\n",
    "            V[ns] = v\n",
    "            policy[ns] = np.eye(env.nA)[np.argmax(va)]\n",
    "        if delta < theta: \n",
    "            break\n",
    "    return policy, V"
   ]
  },
  {
   "cell_type": "code",
   "execution_count": 11,
   "metadata": {},
   "outputs": [
    {
     "name": "stdout",
     "output_type": "stream",
     "text": [
      "Policy Probability Distribution:\n",
      "[[1. 0. 0. 0.]\n",
      " [0. 0. 0. 1.]\n",
      " [0. 0. 0. 1.]\n",
      " [0. 0. 1. 0.]\n",
      " [1. 0. 0. 0.]\n",
      " [1. 0. 0. 0.]\n",
      " [1. 0. 0. 0.]\n",
      " [0. 0. 1. 0.]\n",
      " [1. 0. 0. 0.]\n",
      " [1. 0. 0. 0.]\n",
      " [0. 1. 0. 0.]\n",
      " [0. 0. 1. 0.]\n",
      " [1. 0. 0. 0.]\n",
      " [0. 1. 0. 0.]\n",
      " [0. 1. 0. 0.]\n",
      " [1. 0. 0. 0.]]\n",
      "\n",
      "Reshaped Grid Policy (0=up, 1=right, 2=down, 3=left):\n",
      "[[0 3 3 2]\n",
      " [0 0 0 2]\n",
      " [0 0 1 2]\n",
      " [0 1 1 0]]\n",
      "\n",
      "Value Function:\n",
      "[ 0. -1. -2. -3. -1. -2. -3. -2. -2. -3. -2. -1. -3. -2. -1.  0.]\n",
      "\n",
      "Reshaped Grid Value Function:\n",
      "[[ 0. -1. -2. -3.]\n",
      " [-1. -2. -3. -2.]\n",
      " [-2. -3. -2. -1.]\n",
      " [-3. -2. -1.  0.]]\n",
      "\n"
     ]
    }
   ],
   "source": [
    "\n",
    "policy, v = value_iteration(env)\n",
    "\n",
    "print(\"Policy Probability Distribution:\")\n",
    "print(policy)\n",
    "print(\"\")\n",
    "\n",
    "print(\"Reshaped Grid Policy (0=up, 1=right, 2=down, 3=left):\")\n",
    "print(np.reshape(np.argmax(policy, axis=1), env.shape))\n",
    "print(\"\")\n",
    "\n",
    "print(\"Value Function:\")\n",
    "print(v)\n",
    "print(\"\")\n",
    "\n",
    "print(\"Reshaped Grid Value Function:\")\n",
    "print(v.reshape(env.shape))\n",
    "print(\"\")"
   ]
  },
  {
   "cell_type": "code",
   "execution_count": 12,
   "metadata": {},
   "outputs": [],
   "source": [
    "# Test the value function\n",
    "expected_v = np.array([ 0, -1, -2, -3, -1, -2, -3, -2, -2, -3, -2, -1, -3, -2, -1,  0])\n",
    "np.testing.assert_array_almost_equal(v, expected_v, decimal=2)"
   ]
  },
  {
   "cell_type": "markdown",
   "metadata": {},
   "source": [
    "# 4. Implement Gambler's Problem"
   ]
  },
  {
   "cell_type": "markdown",
   "metadata": {},
   "source": [
    "* State is the gambler's capital, $s \\in {1,2,...,99}$\n",
    "* Actions are stakes, $a \\in {0,1,2,...,\\min(s,100-s)}$ \n",
    "* Reward 0 until +100 (+1) of capital\n",
    "* State value function gives the probability of winning from each state\n",
    "* The policy is the mapping from,levels of capital (states) to stakes (actions) \n",
    "* p_h is the probability of comming up heads (when the player wins) "
   ]
  },
  {
   "cell_type": "markdown",
   "metadata": {},
   "source": [
    "### Implement value iteration for the gambler's problem and solve it for p_h = 0.25 and p_0.55"
   ]
  },
  {
   "cell_type": "code",
   "execution_count": 13,
   "metadata": {},
   "outputs": [],
   "source": [
    "def value_iteration_for_gamblers(p_h, theta=0.0001, discount_factor=1.0):\n",
    "    \"\"\"\n",
    "    Args:\n",
    "        p_h: Probability of the coin coming up heads\n",
    "    \"\"\"\n",
    "    \n",
    "    policy = np.zeros(100)\n",
    "    rewards = np.zeros(101)\n",
    "    rewards[-1] = 1\n",
    "    V = np.zeros(101)\n",
    "    while True:\n",
    "        delta = 0\n",
    "        for ns in range(1, 100):\n",
    "            va = np.zeros(101)\n",
    "            for a in range(0, min(ns, 100-ns)+1):\n",
    "                    # rewards[s+a] (win), and rewards[s - a] (loose) are immediate rewards\n",
    "                    # v[s+a] (win), v[s - a] (loose) are the values of the next states\n",
    "                va[a] = p_h * (rewards[ns + a] + discount_factor * V[ns + a]) + (1 - p_h) * (rewards[ns - a] + discount_factor * V[ns - a])\n",
    "            v = max(va)\n",
    "            delta = max(delta, abs(v- V[ns]))\n",
    "            V[ns] = v\n",
    "            policy[ns] = np.argmax(va)\n",
    "        if delta < theta:\n",
    "            return policy, V"
   ]
  },
  {
   "cell_type": "code",
   "execution_count": 14,
   "metadata": {},
   "outputs": [],
   "source": [
    "policy, V = value_iteration_for_gamblers(0.25)"
   ]
  },
  {
   "cell_type": "code",
   "execution_count": 15,
   "metadata": {},
   "outputs": [
    {
     "data": {
      "text/plain": [
       "array([ 0.,  1.,  0.,  3.,  4.,  0.,  0.,  7.,  8.,  0., 10., 11.,  0.,\n",
       "       12., 11.,  0.,  9.,  0.,  7.,  6.,  0.,  0.,  3.,  0.,  0.,  0.,\n",
       "        0.,  2.,  0.,  4.,  5.,  0.,  7.,  8.,  9.,  0., 11.,  0.,  0.,\n",
       "        0., 10.,  9.,  8.,  7.,  0.,  5.,  4.,  0.,  2.,  1.,  0.,  0.,\n",
       "        2.,  0.,  4.,  5.,  0.,  7.,  8.,  9.,  0., 11.,  0.,  0.,  0.,\n",
       "       10.,  9.,  8.,  7.,  0.,  5.,  4.,  0.,  2.,  1.,  0.,  1.,  2.,\n",
       "        0.,  4.,  0.,  0.,  0.,  8.,  9., 10.,  0., 12., 12.,  0.,  0.,\n",
       "        0.,  8.,  0.,  6.,  0.,  4.,  3.,  2.,  1.])"
      ]
     },
     "execution_count": 15,
     "metadata": {},
     "output_type": "execute_result"
    }
   ],
   "source": [
    "policy"
   ]
  },
  {
   "cell_type": "code",
   "execution_count": 16,
   "metadata": {},
   "outputs": [
    {
     "data": {
      "text/plain": [
       "array([0.00000000e+00, 7.24792480e-05, 2.89916992e-04, 6.95257448e-04,\n",
       "       1.16010383e-03, 1.76906586e-03, 2.78102979e-03, 4.03504074e-03,\n",
       "       4.66214120e-03, 5.59997559e-03, 7.08471239e-03, 9.03964043e-03,\n",
       "       1.11241192e-02, 1.56793594e-02, 1.61464431e-02, 1.69517994e-02,\n",
       "       1.86512806e-02, 1.98249817e-02, 2.24047303e-02, 2.73845196e-02,\n",
       "       2.83388495e-02, 3.04937363e-02, 3.61633897e-02, 3.84953022e-02,\n",
       "       4.44964767e-02, 6.25000000e-02, 6.27174377e-02, 6.33700779e-02,\n",
       "       6.45857723e-02, 6.59966059e-02, 6.78135343e-02, 7.08430894e-02,\n",
       "       7.46098323e-02, 7.64884604e-02, 7.93035477e-02, 8.37541372e-02,\n",
       "       8.96225423e-02, 9.58723575e-02, 1.09538078e-01, 1.10939329e-01,\n",
       "       1.13360151e-01, 1.18457374e-01, 1.21977661e-01, 1.29716907e-01,\n",
       "       1.44653559e-01, 1.47520113e-01, 1.53983246e-01, 1.70990169e-01,\n",
       "       1.77987434e-01, 1.95990576e-01, 2.50000000e-01, 2.50217438e-01,\n",
       "       2.50870078e-01, 2.52085772e-01, 2.53496606e-01, 2.55313534e-01,\n",
       "       2.58343089e-01, 2.62109832e-01, 2.63988460e-01, 2.66803548e-01,\n",
       "       2.71254137e-01, 2.77122542e-01, 2.83372357e-01, 2.97038078e-01,\n",
       "       2.98439329e-01, 3.00860151e-01, 3.05957374e-01, 3.09477661e-01,\n",
       "       3.17216907e-01, 3.32153559e-01, 3.35020113e-01, 3.41483246e-01,\n",
       "       3.58490169e-01, 3.65487434e-01, 3.83490576e-01, 4.37500000e-01,\n",
       "       4.38152558e-01, 4.40122454e-01, 4.43757317e-01, 4.47991345e-01,\n",
       "       4.53440603e-01, 4.62529268e-01, 4.73829497e-01, 4.79468031e-01,\n",
       "       4.87912680e-01, 5.01265085e-01, 5.18867627e-01, 5.37617932e-01,\n",
       "       5.78614419e-01, 5.82817988e-01, 5.90080452e-01, 6.05372123e-01,\n",
       "       6.15934510e-01, 6.39150720e-01, 6.83960814e-01, 6.92560339e-01,\n",
       "       7.11950883e-01, 7.62970611e-01, 7.83963162e-01, 8.37972371e-01,\n",
       "       0.00000000e+00])"
      ]
     },
     "execution_count": 16,
     "metadata": {},
     "output_type": "execute_result"
    }
   ],
   "source": [
    "V"
   ]
  },
  {
   "cell_type": "code",
   "execution_count": 17,
   "metadata": {},
   "outputs": [
    {
     "data": {
      "image/png": "[encoded data removed]",
      "text/plain": [
       "<Figure size 432x288 with 1 Axes>"
      ]
     },
     "metadata": {
      "needs_background": "light"
     },
     "output_type": "display_data"
    }
   ],
   "source": [
    "# Plotting Final Policy (action stake) vs State (Capital)\n",
    "\n",
    "# x axis values\n",
    "x = range(100)\n",
    "# corresponding y axis values\n",
    "y = V[:100]\n",
    " \n",
    "# plotting the points \n",
    "plt.plot(x, y)\n",
    " \n",
    "# naming the x axis\n",
    "plt.xlabel('Capital')\n",
    "# naming the y axis\n",
    "plt.ylabel('Value Estimates')\n",
    " \n",
    "# giving a title to the graph\n",
    "plt.title('Final Policy (action stake) vs State (Capital)')\n",
    " \n",
    "# function to show the plot\n",
    "plt.show()"
   ]
  },
  {
   "cell_type": "code",
   "execution_count": 18,
   "metadata": {},
   "outputs": [
    {
     "data": {
      "image/png": "[encoded data removed]",
      "text/plain": [
       "<Figure size 432x288 with 1 Axes>"
      ]
     },
     "metadata": {
      "needs_background": "light"
     },
     "output_type": "display_data"
    }
   ],
   "source": [
    "# Plotting Capital vs Final Policy\n",
    "\n",
    "# x axis values\n",
    "x = range(100)\n",
    "# corresponding y axis values\n",
    "y = policy\n",
    " \n",
    "# plotting the bars\n",
    "plt.bar(x, y, align='center', alpha=0.5)\n",
    " \n",
    "# naming the x axis\n",
    "plt.xlabel('Capital')\n",
    "# naming the y axis\n",
    "plt.ylabel('Final policy (stake)')\n",
    " \n",
    "# giving a title to the graph\n",
    "plt.title('Capital vs Final Policy')\n",
    " \n",
    "# function to show the plot\n",
    "plt.show()"
   ]
  }
 ],
 "metadata": {
  "kernelspec": {
   "display_name": "Python 3",
   "language": "python",
   "name": "python3"
  },
  "language_info": {
   "codemirror_mode": {
    "name": "ipython",
    "version": 3
   },
   "file_extension": ".py",
   "mimetype": "text/x-python",
   "name": "python",
   "nbconvert_exporter": "python",
   "pygments_lexer": "ipython3",
   "version": "3.6.12"
  }
 },
 "nbformat": 4,
 "nbformat_minor": 4
}
