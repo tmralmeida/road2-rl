{
 "cells": [
  {
   "cell_type": "code",
   "execution_count": 50,
   "metadata": {},
   "outputs": [],
   "source": [
    "import gym \n",
    "import numpy as np\n",
    "import random\n",
    "import time\n",
    "import matplotlib.pyplot as plt\n",
    "from IPython.display import clear_output"
   ]
  },
  {
   "cell_type": "code",
   "execution_count": 51,
   "metadata": {},
   "outputs": [],
   "source": [
    "env = gym.make(\"FrozenLake-v0\")"
   ]
  },
  {
   "cell_type": "code",
   "execution_count": 52,
   "metadata": {},
   "outputs": [
    {
     "data": {
      "text/plain": [
       "Discrete(16)"
      ]
     },
     "execution_count": 52,
     "metadata": {},
     "output_type": "execute_result"
    }
   ],
   "source": [
    "env.observation_space"
   ]
  },
  {
   "cell_type": "code",
   "execution_count": 53,
   "metadata": {},
   "outputs": [],
   "source": [
    "action_space_size = env.action_space.n"
   ]
  },
  {
   "cell_type": "code",
   "execution_count": 54,
   "metadata": {},
   "outputs": [],
   "source": [
    "state_space_size = env.observation_space.n"
   ]
  },
  {
   "cell_type": "code",
   "execution_count": 55,
   "metadata": {},
   "outputs": [
    {
     "data": {
      "text/plain": [
       "(4, 16)"
      ]
     },
     "execution_count": 55,
     "metadata": {},
     "output_type": "execute_result"
    }
   ],
   "source": [
    "action_space_size, state_space_size"
   ]
  },
  {
   "cell_type": "markdown",
   "metadata": {},
   "source": [
    "### Initialization of the q values"
   ]
  },
  {
   "cell_type": "code",
   "execution_count": 56,
   "metadata": {},
   "outputs": [],
   "source": [
    "q_table = np.zeros((state_space_size, action_space_size))"
   ]
  },
  {
   "cell_type": "markdown",
   "metadata": {},
   "source": [
    "### Hyperparameters"
   ]
  },
  {
   "cell_type": "code",
   "execution_count": 57,
   "metadata": {},
   "outputs": [],
   "source": [
    "num_episodes = 10000\n",
    "max_steps_per_episode = 100\n",
    "\n",
    "learning_rate = 0.1\n",
    "discount_rate = 0.99\n",
    "\n",
    "exploration_rate = 1\n",
    "max_eploration_rate = 1\n",
    "min_exploration_rate = 0.01\n",
    "exploration_decay_rate = 0.001"
   ]
  },
  {
   "cell_type": "markdown",
   "metadata": {},
   "source": [
    "### Training"
   ]
  },
  {
   "cell_type": "code",
   "execution_count": 58,
   "metadata": {},
   "outputs": [],
   "source": [
    "rewards = []\n",
    "\n",
    "for episode in range(num_episodes):\n",
    "    state = env.reset()\n",
    "    \n",
    "    done = False\n",
    "    reward_current_episode = 0\n",
    "    \n",
    "    for step in range(max_steps_per_episode):\n",
    "        exploration_rate_threshold = random.uniform(0,1)\n",
    "        if exploration_rate_threshold > exploration_rate: # greedy action (exploitation)\n",
    "            action = np.argmax(q_table[state, :])\n",
    "        else: # exploration action\n",
    "            action = env.action_space.sample()\n",
    "        \n",
    "        new_state, reward, done, info = env.step(action)\n",
    "        \n",
    "        # Update Q table \n",
    "        q_table[state, action] = q_table[state, action]  * (1 - learning_rate) + learning_rate * (reward + discount_rate * np.max(q_table[new_state, :]))\n",
    "        \n",
    "        state = new_state\n",
    "        reward_current_episode += reward\n",
    "        \n",
    "        if done == True:\n",
    "            break\n",
    "            \n",
    "    \n",
    "    # Exploration rate decay \n",
    "    exploration_rate = min_exploration_rate + (max_eploration_rate - min_exploration_rate) * np.exp(-exploration_decay_rate*episode)\n",
    "    \n",
    "    rewards.append(reward_current_episode)"
   ]
  },
  {
   "cell_type": "code",
   "execution_count": 59,
   "metadata": {},
   "outputs": [
    {
     "name": "stdout",
     "output_type": "stream",
     "text": [
      "********Average reward per thousand episodes********\n",
      "\n",
      "100 :  0.02\n",
      "200 :  0.02\n",
      "300 :  0.0\n",
      "400 :  0.03\n",
      "500 :  0.02\n",
      "600 :  0.05\n",
      "700 :  0.11999999999999998\n",
      "800 :  0.060000000000000005\n",
      "900 :  0.11999999999999998\n",
      "1000 :  0.11999999999999998\n",
      "1100 :  0.12999999999999998\n",
      "1200 :  0.11999999999999998\n",
      "1300 :  0.24000000000000007\n",
      "1400 :  0.18000000000000002\n",
      "1500 :  0.17\n",
      "1600 :  0.20000000000000004\n",
      "1700 :  0.17\n",
      "1800 :  0.25000000000000006\n",
      "1900 :  0.24000000000000007\n",
      "2000 :  0.24000000000000007\n",
      "2100 :  0.37000000000000016\n",
      "2200 :  0.38000000000000017\n",
      "2300 :  0.3900000000000002\n",
      "2400 :  0.4000000000000002\n",
      "2500 :  0.3900000000000002\n",
      "2600 :  0.45000000000000023\n",
      "2700 :  0.47000000000000025\n",
      "2800 :  0.3900000000000002\n",
      "2900 :  0.5300000000000002\n",
      "3000 :  0.4000000000000002\n",
      "3100 :  0.48000000000000026\n",
      "3200 :  0.4200000000000002\n",
      "3300 :  0.5300000000000002\n",
      "3400 :  0.5200000000000002\n",
      "3500 :  0.5500000000000003\n",
      "3600 :  0.6200000000000003\n",
      "3700 :  0.5200000000000002\n",
      "3800 :  0.6200000000000003\n",
      "3900 :  0.6200000000000003\n",
      "4000 :  0.6200000000000003\n",
      "4100 :  0.6100000000000003\n",
      "4200 :  0.5900000000000003\n",
      "4300 :  0.5300000000000002\n",
      "4400 :  0.6800000000000004\n",
      "4500 :  0.6700000000000004\n",
      "4600 :  0.6800000000000004\n",
      "4700 :  0.5900000000000003\n",
      "4800 :  0.7000000000000004\n",
      "4900 :  0.6400000000000003\n",
      "5000 :  0.6500000000000004\n",
      "5100 :  0.6900000000000004\n",
      "5200 :  0.6500000000000004\n",
      "5300 :  0.6500000000000004\n",
      "5400 :  0.5900000000000003\n",
      "5500 :  0.6500000000000004\n",
      "5600 :  0.6200000000000003\n",
      "5700 :  0.6600000000000004\n",
      "5800 :  0.6200000000000003\n",
      "5900 :  0.6500000000000004\n",
      "6000 :  0.7100000000000004\n",
      "6100 :  0.6900000000000004\n",
      "6200 :  0.6700000000000004\n",
      "6300 :  0.7100000000000004\n",
      "6400 :  0.6400000000000003\n",
      "6500 :  0.6200000000000003\n",
      "6600 :  0.5800000000000003\n",
      "6700 :  0.7100000000000004\n",
      "6800 :  0.6800000000000004\n",
      "6900 :  0.7400000000000004\n",
      "7000 :  0.6100000000000003\n",
      "7100 :  0.5500000000000003\n",
      "7200 :  0.6900000000000004\n",
      "7300 :  0.6500000000000004\n",
      "7400 :  0.6700000000000004\n",
      "7500 :  0.7000000000000004\n",
      "7600 :  0.6700000000000004\n",
      "7700 :  0.6600000000000004\n",
      "7800 :  0.5500000000000003\n",
      "7900 :  0.6400000000000003\n",
      "8000 :  0.6600000000000004\n",
      "8100 :  0.6500000000000004\n",
      "8200 :  0.6500000000000004\n",
      "8300 :  0.6500000000000004\n",
      "8400 :  0.6600000000000004\n",
      "8500 :  0.7500000000000004\n",
      "8600 :  0.7400000000000004\n",
      "8700 :  0.7000000000000004\n",
      "8800 :  0.6500000000000004\n",
      "8900 :  0.6600000000000004\n",
      "9000 :  0.7500000000000004\n",
      "9100 :  0.5300000000000002\n",
      "9200 :  0.7100000000000004\n",
      "9300 :  0.6400000000000003\n",
      "9400 :  0.7300000000000004\n",
      "9500 :  0.7000000000000004\n",
      "9600 :  0.7300000000000004\n",
      "9700 :  0.6200000000000003\n",
      "9800 :  0.7800000000000005\n",
      "9900 :  0.7100000000000004\n",
      "10000 :  0.6300000000000003\n"
     ]
    }
   ],
   "source": [
    "rewards_per_thousand_episodes = np.split(np.array(rewards),num_episodes/100)\n",
    "count = 100\n",
    "avg_return = []\n",
    "print(\"********Average reward per thousand episodes********\\n\")\n",
    "for r in rewards_per_thousand_episodes:\n",
    "    print(count, \": \", str(sum(r/100)))\n",
    "    avg_return.append(sum(r/100))\n",
    "    count += 100"
   ]
  },
  {
   "cell_type": "code",
   "execution_count": 60,
   "metadata": {},
   "outputs": [
    {
     "name": "stdout",
     "output_type": "stream",
     "text": [
      "\n",
      "\n",
      "********Q-table********\n",
      "\n",
      "[[0.50224727 0.50072338 0.49948772 0.50050852]\n",
      " [0.36295253 0.34817101 0.31947239 0.48053974]\n",
      " [0.39302759 0.42217635 0.41639261 0.46687175]\n",
      " [0.36659869 0.28900521 0.40109479 0.45873851]\n",
      " [0.52053598 0.28637621 0.41472341 0.40050721]\n",
      " [0.         0.         0.         0.        ]\n",
      " [0.2979846  0.18427481 0.19609335 0.10222897]\n",
      " [0.         0.         0.         0.        ]\n",
      " [0.44872576 0.39816352 0.30578769 0.54657459]\n",
      " [0.42739109 0.59025908 0.45547411 0.31405   ]\n",
      " [0.60963016 0.4134004  0.44263708 0.3359606 ]\n",
      " [0.         0.         0.         0.        ]\n",
      " [0.         0.         0.         0.        ]\n",
      " [0.51005486 0.38463566 0.67588261 0.51517328]\n",
      " [0.72135877 0.81555563 0.81219784 0.75841193]\n",
      " [0.         0.         0.         0.        ]]\n"
     ]
    }
   ],
   "source": [
    "# Print updated Q-table\n",
    "print(\"\\n\\n********Q-table********\\n\")\n",
    "print(q_table)"
   ]
  },
  {
   "cell_type": "markdown",
   "metadata": {},
   "source": [
    "### Avg Return over 100 episodes"
   ]
  },
  {
   "cell_type": "code",
   "execution_count": 61,
   "metadata": {},
   "outputs": [
    {
     "data": {
      "image/png": "[encoded data removed]",
      "text/plain": [
       "<Figure size 432x288 with 1 Axes>"
      ]
     },
     "metadata": {
      "needs_background": "light"
     },
     "output_type": "display_data"
    }
   ],
   "source": [
    "plt.plot(np.arange(len(avg_return)), avg_return);"
   ]
  },
  {
   "cell_type": "markdown",
   "metadata": {},
   "source": [
    "### Prediction/Inference"
   ]
  },
  {
   "cell_type": "code",
   "execution_count": 64,
   "metadata": {},
   "outputs": [
    {
     "name": "stdout",
     "output_type": "stream",
     "text": [
      "  (Left)\n",
      "SFFF\n",
      "F\u001b[41mH\u001b[0mFH\n",
      "FFFH\n",
      "HFFG\n",
      "***You fell through a hole!!***\n"
     ]
    }
   ],
   "source": [
    "for episode in range(3):\n",
    "    state = env.reset()\n",
    "    done = False\n",
    "    print(\"***EEPISODE \", episode + 1, \"*****\\n\\n\\n\\n\\n\")\n",
    "    time.sleep(1)\n",
    "    \n",
    "    for step in range(max_steps_per_episode):\n",
    "        clear_output(wait=True)\n",
    "        env.render()\n",
    "        time.sleep(0.3)\n",
    "        \n",
    "        action = np.argmax(q_table[state, :])\n",
    "        new_state, reward, done, _ = env.step(action)\n",
    "        \n",
    "        if done:\n",
    "            clear_output(wait=True)\n",
    "            env.render()\n",
    "            if reward == 1:\n",
    "                print(\"***You reached the goal!!***\")\n",
    "                time.sleep(2)\n",
    "            else:\n",
    "                print(\"***You fell through a hole!!***\")\n",
    "                time.sleep(2)\n",
    "            clear_output(wait=True)\n",
    "            break\n",
    "        state = new_state\n",
    "env.close()"
   ]
  },
  {
   "cell_type": "code",
   "execution_count": null,
   "metadata": {},
   "outputs": [],
   "source": []
  }
 ],
 "metadata": {
  "kernelspec": {
   "display_name": "Python 3",
   "language": "python",
   "name": "python3"
  },
  "language_info": {
   "codemirror_mode": {
    "name": "ipython",
    "version": 3
   },
   "file_extension": ".py",
   "mimetype": "text/x-python",
   "name": "python",
   "nbconvert_exporter": "python",
   "pygments_lexer": "ipython3",
   "version": "3.6.12"
  }
 },
 "nbformat": 4,
 "nbformat_minor": 4
}
